{
  "nbformat": 4,
  "nbformat_minor": 0,
  "metadata": {
    "colab": {
      "provenance": [],
      "authorship_tag": "ABX9TyPAWuhHibX6xqUu3OLt3fu/"
    },
    "kernelspec": {
      "name": "python3",
      "display_name": "Python 3"
    },
    "language_info": {
      "name": "python"
    }
  },
  "cells": [
    {
      "cell_type": "code",
      "execution_count": 1,
      "metadata": {
        "colab": {
          "base_uri": "https://localhost:8080/"
        },
        "collapsed": true,
        "id": "oZA4M6sE57Ca",
        "outputId": "a7dd2be5-dae7-4f3c-a1cb-f7f315a77841"
      },
      "outputs": [
        {
          "output_type": "stream",
          "name": "stdout",
          "text": [
            "\u001b[2K   \u001b[90m━━━━━━━━━━━━━━━━━━━━━━━━━━━━━━━━━━━━━━━━\u001b[0m \u001b[32m755.5/755.5 MB\u001b[0m \u001b[31m1.2 MB/s\u001b[0m eta \u001b[36m0:00:00\u001b[0m\n",
            "\u001b[2K   \u001b[90m━━━━━━━━━━━━━━━━━━━━━━━━━━━━━━━━━━━━━━━━\u001b[0m \u001b[32m410.6/410.6 MB\u001b[0m \u001b[31m2.5 MB/s\u001b[0m eta \u001b[36m0:00:00\u001b[0m\n",
            "\u001b[2K   \u001b[90m━━━━━━━━━━━━━━━━━━━━━━━━━━━━━━━━━━━━━━━━\u001b[0m \u001b[32m14.1/14.1 MB\u001b[0m \u001b[31m96.3 MB/s\u001b[0m eta \u001b[36m0:00:00\u001b[0m\n",
            "\u001b[2K   \u001b[90m━━━━━━━━━━━━━━━━━━━━━━━━━━━━━━━━━━━━━━━━\u001b[0m \u001b[32m23.7/23.7 MB\u001b[0m \u001b[31m85.8 MB/s\u001b[0m eta \u001b[36m0:00:00\u001b[0m\n",
            "\u001b[2K   \u001b[90m━━━━━━━━━━━━━━━━━━━━━━━━━━━━━━━━━━━━━━━━\u001b[0m \u001b[32m823.6/823.6 kB\u001b[0m \u001b[31m42.7 MB/s\u001b[0m eta \u001b[36m0:00:00\u001b[0m\n",
            "\u001b[2K   \u001b[90m━━━━━━━━━━━━━━━━━━━━━━━━━━━━━━━━━━━━━━━━\u001b[0m \u001b[32m731.7/731.7 MB\u001b[0m \u001b[31m1.2 MB/s\u001b[0m eta \u001b[36m0:00:00\u001b[0m\n",
            "\u001b[2K   \u001b[90m━━━━━━━━━━━━━━━━━━━━━━━━━━━━━━━━━━━━━━━━\u001b[0m \u001b[32m121.6/121.6 MB\u001b[0m \u001b[31m7.9 MB/s\u001b[0m eta \u001b[36m0:00:00\u001b[0m\n",
            "\u001b[2K   \u001b[90m━━━━━━━━━━━━━━━━━━━━━━━━━━━━━━━━━━━━━━━━\u001b[0m \u001b[32m56.5/56.5 MB\u001b[0m \u001b[31m12.6 MB/s\u001b[0m eta \u001b[36m0:00:00\u001b[0m\n",
            "\u001b[2K   \u001b[90m━━━━━━━━━━━━━━━━━━━━━━━━━━━━━━━━━━━━━━━━\u001b[0m \u001b[32m124.2/124.2 MB\u001b[0m \u001b[31m7.6 MB/s\u001b[0m eta \u001b[36m0:00:00\u001b[0m\n",
            "\u001b[2K   \u001b[90m━━━━━━━━━━━━━━━━━━━━━━━━━━━━━━━━━━━━━━━━\u001b[0m \u001b[32m196.0/196.0 MB\u001b[0m \u001b[31m6.2 MB/s\u001b[0m eta \u001b[36m0:00:00\u001b[0m\n",
            "\u001b[2K   \u001b[90m━━━━━━━━━━━━━━━━━━━━━━━━━━━━━━━━━━━━━━━━\u001b[0m \u001b[32m166.0/166.0 MB\u001b[0m \u001b[31m6.5 MB/s\u001b[0m eta \u001b[36m0:00:00\u001b[0m\n",
            "\u001b[2K   \u001b[90m━━━━━━━━━━━━━━━━━━━━━━━━━━━━━━━━━━━━━━━━\u001b[0m \u001b[32m99.1/99.1 kB\u001b[0m \u001b[31m5.5 MB/s\u001b[0m eta \u001b[36m0:00:00\u001b[0m\n",
            "\u001b[2K   \u001b[90m━━━━━━━━━━━━━━━━━━━━━━━━━━━━━━━━━━━━━━━━\u001b[0m \u001b[32m167.9/167.9 MB\u001b[0m \u001b[31m6.7 MB/s\u001b[0m eta \u001b[36m0:00:00\u001b[0m\n",
            "\u001b[?25h\u001b[31mERROR: pip's dependency resolver does not currently take into account all the packages that are installed. This behaviour is the source of the following dependency conflicts.\n",
            "torchvision 0.21.0+cu124 requires torch==2.6.0, but you have torch 2.2.0 which is incompatible.\n",
            "torchaudio 2.6.0+cu124 requires torch==2.6.0, but you have torch 2.2.0 which is incompatible.\u001b[0m\u001b[31m\n",
            "\u001b[0m"
          ]
        }
      ],
      "source": [
        "!pip install -q torch==2.2.0 tqdm"
      ]
    },
    {
      "cell_type": "code",
      "source": [
        "!pip install \"numpy<2\""
      ],
      "metadata": {
        "colab": {
          "base_uri": "https://localhost:8080/"
        },
        "id": "5QUXb19r7aab",
        "outputId": "27ed5a1e-080c-4282-e27c-f76cef11dba7"
      },
      "execution_count": 12,
      "outputs": [
        {
          "output_type": "stream",
          "name": "stdout",
          "text": [
            "Collecting numpy<2\n",
            "  Downloading numpy-1.26.4-cp311-cp311-manylinux_2_17_x86_64.manylinux2014_x86_64.whl.metadata (61 kB)\n",
            "\u001b[2K     \u001b[90m━━━━━━━━━━━━━━━━━━━━━━━━━━━━━━━━━━━━━━━━\u001b[0m \u001b[32m61.0/61.0 kB\u001b[0m \u001b[31m2.4 MB/s\u001b[0m eta \u001b[36m0:00:00\u001b[0m\n",
            "\u001b[?25hDownloading numpy-1.26.4-cp311-cp311-manylinux_2_17_x86_64.manylinux2014_x86_64.whl (18.3 MB)\n",
            "\u001b[2K   \u001b[90m━━━━━━━━━━━━━━━━━━━━━━━━━━━━━━━━━━━━━━━━\u001b[0m \u001b[32m18.3/18.3 MB\u001b[0m \u001b[31m52.3 MB/s\u001b[0m eta \u001b[36m0:00:00\u001b[0m\n",
            "\u001b[?25hInstalling collected packages: numpy\n",
            "  Attempting uninstall: numpy\n",
            "    Found existing installation: numpy 2.0.2\n",
            "    Uninstalling numpy-2.0.2:\n",
            "      Successfully uninstalled numpy-2.0.2\n",
            "\u001b[31mERROR: pip's dependency resolver does not currently take into account all the packages that are installed. This behaviour is the source of the following dependency conflicts.\n",
            "torchvision 0.21.0+cu124 requires torch==2.6.0, but you have torch 2.2.0 which is incompatible.\n",
            "thinc 8.3.6 requires numpy<3.0.0,>=2.0.0, but you have numpy 1.26.4 which is incompatible.\u001b[0m\u001b[31m\n",
            "\u001b[0mSuccessfully installed numpy-1.26.4\n"
          ]
        }
      ]
    },
    {
      "cell_type": "code",
      "source": [
        "import math, random, time\n",
        "import torch, torch.nn as nn, torch.nn.functional as F\n",
        "from torch.utils.data import Dataset, DataLoader\n",
        "import matplotlib.pyplot as plt\n",
        "import numpy as np"
      ],
      "metadata": {
        "collapsed": true,
        "id": "piIx8qb86TXk"
      },
      "execution_count": 1,
      "outputs": []
    },
    {
      "cell_type": "code",
      "source": [
        "class CopyTask(Dataset):\n",
        "    \"\"\"\n",
        "    Generates (seq, seq) where seq is a list of ints in [1, vocab_size).\n",
        "    The first token is always 0 (SOS), last is vocab_size (EOS).\n",
        "    \"\"\"\n",
        "    def __init__(self, num_samples=10_000, seq_len=12, vocab_size=20):\n",
        "        self.vocab_size, self.seq_len = vocab_size, seq_len\n",
        "        self.data = [\n",
        "            torch.randint(1, vocab_size, (seq_len,)) for _ in range(num_samples)\n",
        "        ]\n",
        "\n",
        "    def __len__(self): return len(self.data)\n",
        "    def __getitem__(self, idx):\n",
        "        x = torch.cat([torch.zeros(1, dtype=torch.long), self.data[idx]])      # SOS\n",
        "        y = torch.cat([self.data[idx], torch.full((1,), self.vocab_size)])     # EOS\n",
        "        return x, y"
      ],
      "metadata": {
        "id": "qtmxlcD16W7Z"
      },
      "execution_count": 2,
      "outputs": []
    },
    {
      "cell_type": "code",
      "source": [
        "class SingleHeadAttention(nn.Module):\n",
        "    def __init__(self, d_model):\n",
        "        super().__init__()\n",
        "        self.d_model = d_model\n",
        "        self.W_q = nn.Linear(d_model, d_model, bias=False)\n",
        "        self.W_k = nn.Linear(d_model, d_model, bias=False)\n",
        "        self.W_v = nn.Linear(d_model, d_model, bias=False)\n",
        "        self.softmax = nn.Softmax(dim=-1)\n",
        "    def forward(self, x, mask=None):\n",
        "        Q, K, V = self.W_q(x), self.W_k(x), self.W_v(x)\n",
        "        scores = Q @ K.transpose(-2, -1) / math.sqrt(self.d_model)\n",
        "        if mask is not None:\n",
        "            scores = scores.masked_fill(mask==0, -1e9)\n",
        "        attn = self.softmax(scores)\n",
        "        return attn @ V, attn          # we return attn for visualisation"
      ],
      "metadata": {
        "id": "ZabZHRvL6bCK"
      },
      "execution_count": 3,
      "outputs": []
    },
    {
      "cell_type": "code",
      "source": [
        "class TinyTransformer(nn.Module):\n",
        "    def __init__(self, vocab_size, d_model=64):\n",
        "        super().__init__()\n",
        "        self.embed = nn.Embedding(vocab_size+1, d_model)  # +1 for EOS\n",
        "        self.attn  = SingleHeadAttention(d_model)\n",
        "        self.fc    = nn.Linear(d_model, vocab_size+1)\n",
        "    def forward(self, x):\n",
        "        x = self.embed(x)\n",
        "        # Causal mask: do not peek ahead\n",
        "        seq_len = x.size(1)\n",
        "        mask = torch.tril(torch.ones(seq_len, seq_len)).to(x.device)\n",
        "        x, w = self.attn(x, mask)\n",
        "        return self.fc(x), w"
      ],
      "metadata": {
        "id": "aXOplbvT6cPW"
      },
      "execution_count": 4,
      "outputs": []
    },
    {
      "cell_type": "code",
      "source": [
        "device = 'cuda' if torch.cuda.is_available() else 'cpu'\n",
        "ds   = CopyTask()\n",
        "dl   = DataLoader(ds, batch_size=64, shuffle=True)\n",
        "model = TinyTransformer(ds.vocab_size).to(device)\n",
        "opt   = torch.optim.Adam(model.parameters(), lr=3e-4)\n",
        "losses = []\n",
        "\n",
        "for epoch in range(5):\n",
        "    for xb, yb in dl:\n",
        "        xb, yb = xb.to(device), yb.to(device)\n",
        "        logits, _ = model(xb)\n",
        "        loss = F.cross_entropy(logits.view(-1, logits.size(-1)), yb.view(-1))\n",
        "        opt.zero_grad(); loss.backward(); opt.step()\n",
        "        losses.append(loss.item())\n",
        "    print(f\"epoch {epoch+1}: {losses[-1]:.3f}\")"
      ],
      "metadata": {
        "colab": {
          "base_uri": "https://localhost:8080/"
        },
        "id": "-MbNrztN6dxN",
        "outputId": "d23c7464-4620-4b6d-9aa8-bb02db66c207"
      },
      "execution_count": 5,
      "outputs": [
        {
          "output_type": "stream",
          "name": "stdout",
          "text": [
            "epoch 1: 2.963\n",
            "epoch 2: 2.907\n",
            "epoch 3: 2.876\n",
            "epoch 4: 2.874\n",
            "epoch 5: 2.852\n"
          ]
        }
      ]
    },
    {
      "cell_type": "code",
      "source": [
        "# Pick one random sample and plot its attention weights\n",
        "model.eval()\n",
        "test_x, _ = ds[random.randint(0, len(ds)-1)]\n",
        "with torch.no_grad():\n",
        "    _, attn = model(test_x.unsqueeze(0).to(device))\n",
        "attn = attn.squeeze(0).cpu()  # [seq, seq]\n",
        "\n",
        "# Convert the PyTorch tensor to a NumPy array before plotting.\n",
        "attn = attn.numpy()\n",
        "\n",
        "plt.imshow(attn, cmap='viridis')\n",
        "plt.title(\"Attention Weights (query rows, key cols)\")\n",
        "plt.xlabel(\"Key position\"); plt.ylabel(\"Query position\")\n",
        "plt.colorbar(); plt.show()"
      ],
      "metadata": {
        "colab": {
          "base_uri": "https://localhost:8080/",
          "height": 472
        },
        "id": "R7rTrryM6fYA",
        "outputId": "72c57dc2-d2d0-461d-e1b0-2c4810f71500"
      },
      "execution_count": 6,
      "outputs": [
        {
          "output_type": "display_data",
          "data": {
            "text/plain": [
              "<Figure size 640x480 with 2 Axes>"
            ],
            "image/png": "[encoded data removed]"
          },
          "metadata": {}
        }
      ]
    },
    {
      "cell_type": "code",
      "source": [],
      "metadata": {
        "id": "7xNbMb7C6g2b"
      },
      "execution_count": null,
      "outputs": []
    }
  ]
}